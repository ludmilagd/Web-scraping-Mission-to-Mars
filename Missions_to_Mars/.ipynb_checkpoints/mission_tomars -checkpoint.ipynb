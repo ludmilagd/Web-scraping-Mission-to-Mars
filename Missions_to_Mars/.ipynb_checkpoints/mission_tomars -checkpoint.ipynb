{
 "cells": [
  {
   "cell_type": "code",
   "execution_count": 14,
   "metadata": {},
   "outputs": [],
   "source": [
    "# Dependencies\n",
    "from bs4 import BeautifulSoup\n",
    "import requests\n",
    "import os\n",
    "from splinter import Browser\n",
    "from splinter.exceptions import ElementDoesNotExist\n"
   ]
  },
  {
   "cell_type": "code",
   "execution_count": 15,
   "metadata": {},
   "outputs": [],
   "source": [
    "executable_path = {'executable_path': 'chromedriver.exe'}\n",
    "browser = Browser('chrome', **executable_path, headless=False)\n"
   ]
  },
  {
   "cell_type": "code",
   "execution_count": 16,
   "metadata": {},
   "outputs": [],
   "source": [
    "# Source of Information\n",
    "url=\"https://mars.nasa.gov/news/\"\n",
    "browser.visit(url)"
   ]
  },
  {
   "cell_type": "code",
   "execution_count": 17,
   "metadata": {},
   "outputs": [],
   "source": [
    "# Create Beautiful soup parser\n",
    "html= browser.html\n",
    "soup= BeautifulSoup(html, 'html.parser')"
   ]
  },
  {
   "cell_type": "code",
   "execution_count": 18,
   "metadata": {
    "scrolled": true
   },
   "outputs": [
    {
     "data": {
      "text/plain": [
       "<div class=\"list_text\"><div class=\"list_date\">December 17, 2020</div><div class=\"content_title\"><a href=\"/news/8819/nasa-moves-forward-with-campaign-to-return-mars-samples-to-earth/\" target=\"_self\">NASA Moves Forward With Campaign to Return Mars Samples to Earth</a></div><div class=\"article_teaser_body\">During this next phase, the program will mature critical technologies and make critical design decisions as well as assess industry partnerships.</div></div>"
      ]
     },
     "execution_count": 18,
     "metadata": {},
     "output_type": "execute_result"
    }
   ],
   "source": [
    "#Navigate to the container\n",
    "outercontainer= soup.find('div', class_='list_text')\n",
    "outercontainer"
   ]
  },
  {
   "cell_type": "code",
   "execution_count": 19,
   "metadata": {},
   "outputs": [
    {
     "data": {
      "text/plain": [
       "'During this next phase, the program will mature critical technologies and make critical design decisions as well as assess industry partnerships.'"
      ]
     },
     "execution_count": 19,
     "metadata": {},
     "output_type": "execute_result"
    }
   ],
   "source": [
    "# Go to next level- body and get description \n",
    "body = outercontainer.find('div', class_='article_teaser_body').text\n",
    "body"
   ]
  },
  {
   "cell_type": "code",
   "execution_count": 20,
   "metadata": {},
   "outputs": [
    {
     "data": {
      "text/plain": [
       "'NASA Moves Forward With Campaign to Return Mars Samples to Earth'"
      ]
     },
     "execution_count": 20,
     "metadata": {},
     "output_type": "execute_result"
    }
   ],
   "source": [
    "#Navigate to title and extract text only\n",
    "titles = outercontainer.find('div', class_='content_title').text\n",
    "titles"
   ]
  },
  {
   "cell_type": "code",
   "execution_count": 21,
   "metadata": {},
   "outputs": [],
   "source": [
    "# Go to list- example of how to get all the info from the list\n",
    "lista= soup.find('ul', class_='item_list')\n",
    "\n"
   ]
  },
  {
   "cell_type": "code",
   "execution_count": 22,
   "metadata": {
    "scrolled": true
   },
   "outputs": [],
   "source": [
    "# Visit Nasa page to get feature image\n",
    "url = 'https://www.jpl.nasa.gov/spaceimages/?search=&category=Mars'\n",
    "browser.visit(url)"
   ]
  },
  {
   "cell_type": "code",
   "execution_count": 23,
   "metadata": {},
   "outputs": [],
   "source": [
    "# Tell Browsert to navigate to the next page by clicking FULL IMAGE\n",
    "browser.click_link_by_id('full_image')\n"
   ]
  },
  {
   "cell_type": "code",
   "execution_count": 24,
   "metadata": {},
   "outputs": [
    {
     "name": "stderr",
     "output_type": "stream",
     "text": [
      "C:\\Users\\ludmi\\anaconda3\\envs\\PythonData\\lib\\site-packages\\splinter\\driver\\webdriver\\__init__.py:493: FutureWarning: browser.find_link_by_partial_text is deprecated. Use browser.links.find_by_partial_text instead.\n",
      "  FutureWarning,\n"
     ]
    }
   ],
   "source": [
    "# Click to \"More Info\" button\n",
    "browser.click_link_by_partial_text('more info')"
   ]
  },
  {
   "cell_type": "code",
   "execution_count": 25,
   "metadata": {},
   "outputs": [],
   "source": [
    "# Use beautiful soup to extract information \n",
    "html= browser.html\n",
    "soup= BeautifulSoup(html, 'html.parser')"
   ]
  },
  {
   "cell_type": "code",
   "execution_count": 26,
   "metadata": {},
   "outputs": [
    {
     "data": {
      "text/plain": [
       "<figure class=\"lede\">\n",
       "<a href=\"/spaceimages/images/largesize/PIA16763_hires.jpg\"><img alt=\"The rover is positioned at a patch of flat outcrop called 'John Klein,' which was selected as the site for the first rock-drilling activities by NASA's Curiosity. This self-portrait was acquired to document the drilling site.\" class=\"main_image\" src=\"/spaceimages/images/largesize/PIA16763_hires.jpg\" title=\"The rover is positioned at a patch of flat outcrop called 'John Klein,' which was selected as the site for the first rock-drilling activities by NASA's Curiosity. This self-portrait was acquired to document the drilling site.\"/></a>\n",
       "</figure>"
      ]
     },
     "execution_count": 26,
     "metadata": {},
     "output_type": "execute_result"
    }
   ],
   "source": [
    "# Find fugre container\n",
    "feature_image= soup.find('figure', class_='lede')\n",
    "feature_image"
   ]
  },
  {
   "cell_type": "code",
   "execution_count": 27,
   "metadata": {},
   "outputs": [
    {
     "data": {
      "text/plain": [
       "'https://www.jpl.nasa.gov/spaceimages/?search=&category=Mars/spaceimages/images/largesize/PIA16763_hires.jpg'"
      ]
     },
     "execution_count": 27,
     "metadata": {},
     "output_type": "execute_result"
    }
   ],
   "source": [
    "# Obtain reference and create complete link to feature image\n",
    "feature_image_= feature_image.find('a')['href']\n",
    "feature_image_= url+feature_image_\n",
    "feature_image_        "
   ]
  },
  {
   "cell_type": "code",
   "execution_count": 28,
   "metadata": {},
   "outputs": [],
   "source": [
    "# Visit webpage to extract Hemisphere pics\n",
    "url = 'https://astrogeology.usgs.gov/search/results?q=hemisphere+enhanced&k1=target&v1=Mars'\n",
    "browser.visit(url)"
   ]
  },
  {
   "cell_type": "code",
   "execution_count": 29,
   "metadata": {},
   "outputs": [],
   "source": [
    "html= browser.html\n",
    "soup= BeautifulSoup(html, 'html.parser')\n",
    "\n",
    "hemiphere_list=[]\n",
    "\n",
    "hemis = browser.find_by_tag('h3')\n",
    "\n",
    "for i in range(len(hemis)):\n",
    "    hemi_dict={}\n",
    "    \n",
    "    browser.find_by_css('h3')[i].click()\n",
    "    \n",
    "#     image=soup.find('div', class_='downloads')\n",
    "#     hemi_dict['image']= image.find('a')['href']\n",
    "    image = browser.links.find_by_text('Sample').first\n",
    "    hemi_dict['images']= image['href']\n",
    "    \n",
    "    hemi_dict['title']=browser.find_by_css('h2').text\n",
    "    \n",
    "    hemiphere_list.append(hemi_dict)\n",
    "    browser.back()\n",
    "\n",
    "    \n",
    "    \n",
    "    \n",
    "    "
   ]
  },
  {
   "cell_type": "code",
   "execution_count": 30,
   "metadata": {},
   "outputs": [
    {
     "name": "stdout",
     "output_type": "stream",
     "text": [
      "[{'images': 'https://astropedia.astrogeology.usgs.gov/download/Mars/Viking/cerberus_enhanced.tif/full.jpg', 'title': 'Cerberus Hemisphere Enhanced'}, {'images': 'https://astropedia.astrogeology.usgs.gov/download/Mars/Viking/schiaparelli_enhanced.tif/full.jpg', 'title': 'Schiaparelli Hemisphere Enhanced'}, {'images': 'https://astropedia.astrogeology.usgs.gov/download/Mars/Viking/syrtis_major_enhanced.tif/full.jpg', 'title': 'Syrtis Major Hemisphere Enhanced'}, {'images': 'https://astropedia.astrogeology.usgs.gov/download/Mars/Viking/valles_marineris_enhanced.tif/full.jpg', 'title': 'Valles Marineris Hemisphere Enhanced'}]\n"
     ]
    }
   ],
   "source": [
    "print(hemiphere_list)"
   ]
  },
  {
   "cell_type": "code",
   "execution_count": null,
   "metadata": {},
   "outputs": [],
   "source": []
  }
 ],
 "metadata": {
  "kernelspec": {
   "display_name": "Python [conda env:PythonData]",
   "language": "python",
   "name": "conda-env-PythonData-py"
  },
  "language_info": {
   "codemirror_mode": {
    "name": "ipython",
    "version": 3
   },
   "file_extension": ".py",
   "mimetype": "text/x-python",
   "name": "python",
   "nbconvert_exporter": "python",
   "pygments_lexer": "ipython3",
   "version": "3.6.10"
  }
 },
 "nbformat": 4,
 "nbformat_minor": 2
}
